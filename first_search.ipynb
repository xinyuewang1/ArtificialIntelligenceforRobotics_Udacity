{
 "cells": [
  {
   "cell_type": "code",
   "execution_count": 25,
   "metadata": {},
   "outputs": [],
   "source": [
    "from operator import itemgetter\n",
    "from pprint import pprint"
   ]
  },
  {
   "cell_type": "code",
   "execution_count": 57,
   "metadata": {},
   "outputs": [],
   "source": [
    "# ----------\n",
    "# User Instructions:\n",
    "# \n",
    "# Define a function, search() that returns a list\n",
    "# in the form of [optimal path length, row, col]. For\n",
    "# the grid shown below, your function should output\n",
    "# [11, 4, 5].\n",
    "#\n",
    "# If there is no valid path from the start point\n",
    "# to the goal, your function should return the string\n",
    "# 'fail'\n",
    "# ----------\n",
    "\n",
    "# Grid format:\n",
    "#   0 = Navigable space\n",
    "#   1 = Occupied space\n",
    "\n",
    "\n",
    "grid = [[0, 0, 1, 0, 0, 0],\n",
    "        [0, 0, 1, 0, 0, 0],\n",
    "        [0, 0, 0, 0, 1, 0],\n",
    "        [0, 0, 1, 1, 1, 0],\n",
    "        [0, 0, 0, 0, 1, 0]]\n",
    "init = [0, 0]\n",
    "goal = [len(grid)-1, len(grid[0])-1]\n",
    "cost = 1\n",
    "\n",
    "delta = [[-1, 0], # go up\n",
    "         [ 0,-1], # go left\n",
    "         [ 1, 0], # go down\n",
    "         [ 0, 1]] # go right\n",
    "\n",
    "delta_name = ['^', '<', 'v', '>']\n",
    "\n",
    "def search(grid,init,goal,cost):\n",
    "    if grid[init[0]][init[1]] == 1:\n",
    "        raise ValueError('Are you kidding me?')\n",
    "    grid[init[0]][init[1]] = 1  # current place is visited\n",
    "    neighbor = []\n",
    "    for x, y in delta:\n",
    "        idx_x = init[0] + x\n",
    "        idx_y = init[1] + y\n",
    "        if idx_x >= 0 and idx_x < len(grid) and idx_y >= 0 \\\n",
    "        and idx_y < len(grid[0]) and grid[idx_x][idx_y] == 0:  \n",
    "            # within grid and not visited\n",
    "            grid[idx_x][idx_y] = 1  # Mark as visited\n",
    "            neighbor.append([cost, idx_x, idx_y])\n",
    "    current = sorted(neighbor, key=itemgetter(0))[0]\n",
    "#         current = init\n",
    "#     print(current, neighbor)\n",
    "    neighbor.pop(0)\n",
    "#     print(neighbor)\n",
    "#     has_neighbor = True\n",
    "    while current[1:] != goal and neighbor:\n",
    "#         has_neighbor = False\n",
    "        neighbor.pop(0)\n",
    "        for x, y in delta:\n",
    "            idx_x = current[1] + x\n",
    "            idx_y = current[2] + y\n",
    "            if idx_x >= 0 and idx_x < len(grid) and idx_y >= 0 \\\n",
    "            and idx_y < len(grid[0]) and grid[idx_x][idx_y] == 0:\n",
    "                grid[idx_x][idx_y] = 1  # Mark as visited\n",
    "                neighbor.append([current[0] + cost, idx_x, idx_y])\n",
    "#                 has_neighbor = True\n",
    "        current = sorted(neighbor, key=itemgetter(0))[0]\n",
    "#         neighbor.pop(0)\n",
    "#         print('current',current,'neighor',neighbor)\n",
    "#         pprint(grid)\n",
    "    if current[1:] == goal:\n",
    "        return current\n",
    "    else:\n",
    "        return 'fail'"
   ]
  },
  {
   "cell_type": "code",
   "execution_count": 58,
   "metadata": {},
   "outputs": [
    {
     "data": {
      "text/plain": [
       "[11, 4, 5]"
      ]
     },
     "execution_count": 58,
     "metadata": {},
     "output_type": "execute_result"
    }
   ],
   "source": [
    "search(grid, init, goal, cost)"
   ]
  },
  {
   "cell_type": "code",
   "execution_count": 59,
   "metadata": {},
   "outputs": [
    {
     "name": "stdout",
     "output_type": "stream",
     "text": [
      "search didn't return the expected output for grid: [[0, 1, 0, 0, 0, 0], [0, 1, 0, 1, 0, 0], [0, 1, 0, 1, 0, 0], [0, 1, 0, 1, 0, 0], [0, 0, 0, 1, 0, 0]]\n"
     ]
    }
   ],
   "source": [
    "##### Do Not Modify ######\n",
    "\n",
    "import grader\n",
    "\n",
    "try:\n",
    "    response = grader.run_grader(search)\n",
    "    print(response)    \n",
    "    \n",
    "except Exception as err:\n",
    "    print(str(err))"
   ]
  },
  {
   "cell_type": "code",
   "execution_count": null,
   "metadata": {},
   "outputs": [],
   "source": []
  }
 ],
 "metadata": {
  "kernelspec": {
   "display_name": "Python 3",
   "language": "python",
   "name": "python3"
  },
  "language_info": {
   "codemirror_mode": {
    "name": "ipython",
    "version": 3
   },
   "file_extension": ".py",
   "mimetype": "text/x-python",
   "name": "python",
   "nbconvert_exporter": "python",
   "pygments_lexer": "ipython3",
   "version": "3.6.3"
  }
 },
 "nbformat": 4,
 "nbformat_minor": 2
}
