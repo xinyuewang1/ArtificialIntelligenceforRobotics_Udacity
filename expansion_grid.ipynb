{
 "cells": [
  {
   "cell_type": "code",
   "execution_count": 1,
   "metadata": {},
   "outputs": [],
   "source": [
    "from pprint import pprint"
   ]
  },
  {
   "cell_type": "code",
   "execution_count": 44,
   "metadata": {},
   "outputs": [],
   "source": [
    "# -----------\n",
    "# User Instructions:\n",
    "# \n",
    "# Modify the function search so that it returns\n",
    "# a table of values called expand. This table\n",
    "# will keep track of which step each node was\n",
    "# expanded.\n",
    "#\n",
    "# Make sure that the initial cell in the grid \n",
    "# you return has the value 0.\n",
    "# ----------\n",
    "\n",
    "grid = [[0, 0, 1, 0, 0, 0],\n",
    "        [0, 0, 0, 0, 0, 0],\n",
    "        [0, 0, 1, 0, 1, 0],\n",
    "        [0, 0, 1, 0, 1, 0],\n",
    "        [0, 0, 1, 0, 1, 0]]\n",
    "init = [0, 0]\n",
    "goal = [len(grid)-1, len(grid[0])-1]\n",
    "cost = 1\n",
    "\n",
    "delta = [[-1, 0], # go up\n",
    "         [ 0,-1], # go left\n",
    "         [ 1, 0], # go down\n",
    "         [ 0, 1]] # go right\n",
    "\n",
    "delta_name = ['^', '<', 'v', '>']\n",
    "\n",
    "def search(grid,init,goal,cost):\n",
    "    # ----------------------------------------\n",
    "    # modify code below\n",
    "    # ----------------------------------------\n",
    "    # logic: visit current, explore unvisited neighbors, put them in list\n",
    "    # move to first neighbor on list. loop until no more in neighbors list.\n",
    "    expand = []\n",
    "    #  mark obstacle first\n",
    "    obs = 0\n",
    "    for x in range(len(grid)):\n",
    "        expand.append([])\n",
    "        for y in range(len(grid[x])):\n",
    "            if grid[x][y] == 0:\n",
    "                expand[-1].append(0)\n",
    "            else:\n",
    "                expand[-1].append(-1)\n",
    "                obs += 1\n",
    "\n",
    "    if expand[init[0]][init[1]] == -1:\n",
    "        raise ValueError('Congratulation, your robot is standing on wall')\n",
    "    n = 0\n",
    "#     expand[init[0]][init[1]] = n\n",
    "#     n += 1\n",
    "#     more = True\n",
    "    current = init\n",
    "    visited = {(current[0], current[1])}\n",
    "    n += 1\n",
    "#     print(visited)\n",
    "    neighbor = set()\n",
    "    for x, y in delta:\n",
    "            idx_x, idx_y = current[0] + x, current[1] + y\n",
    "            if 0 <= idx_x < len(expand) and 0 <= idx_y < len(expand[0]) and\\\n",
    "            (expand[idx_x][idx_y] == 0):\n",
    "                expand[idx_x][idx_y] = n\n",
    "#                 n += 1\n",
    "                neighbor.update({(idx_x, idx_y)})\n",
    "#     pprint(expand)\n",
    "#     print(n)\n",
    "#     print(neighbor)\n",
    "#     print(visited)\n",
    "    while neighbor:\n",
    "#         print(neighbor)\n",
    "        # pop one from neighbor set\n",
    "        current = neighbor.pop()\n",
    "        # haven't been visited\n",
    "        if current not in visited: # and expand[idx_x][idx_y] != -1:\n",
    "            expand[current[0]][current[1]] = n\n",
    "            n += 1\n",
    "            visited.update({(current[0], current[1])})\n",
    "        \n",
    "#         print(current, neighbor)\n",
    "        # updating neighbor set\n",
    "        for x, y in delta:\n",
    "            idx_x, idx_y = current[0] + x, current[1] + y\n",
    "            if 0 <= idx_x < len(expand) and 0 <= idx_y < len(expand[0]) and\\\n",
    "            ((idx_x, idx_y) not in visited) and expand[idx_x][idx_y] != -1:\n",
    "                neighbor.update({(idx_x, idx_y)})\n",
    "#                 more = True\n",
    "#     print(visited)\n",
    "    if n + obs + 1 != len(expand) * len(expand[0]):  # cannot access\n",
    "#         print('i')\n",
    "        for x in range(len(expand)):\n",
    "            for y in range(len(expand[0])):\n",
    "                if (x, y) not in visited:\n",
    "                    expand[x][y] = -1\n",
    "    return expand"
   ]
  },
  {
   "cell_type": "code",
   "execution_count": 45,
   "metadata": {
    "scrolled": true
   },
   "outputs": [
    {
     "name": "stdout",
     "output_type": "stream",
     "text": [
      "[[0, 1, -1, 16, 15, 18],\n",
      " [2, 3, 5, 11, 14, 17],\n",
      " [6, 4, -1, 12, -1, 20],\n",
      " [10, 7, -1, 13, -1, 21],\n",
      " [9, 8, -1, 19, -1, 22]]\n"
     ]
    }
   ],
   "source": [
    "pprint(search([[0, 0, 1, 0, 0, 0],\n",
    "        [0, 0, 0, 0, 0, 0],\n",
    "        [0, 0, 1, 0, 1, 0],\n",
    "        [0, 0, 1, 0, 1, 0],\n",
    "        [0, 0, 1, 0, 1, 0]], init, goal, cost))"
   ]
  },
  {
   "cell_type": "code",
   "execution_count": 46,
   "metadata": {},
   "outputs": [
    {
     "name": "stdout",
     "output_type": "stream",
     "text": [
      "Correct! \n"
     ]
    }
   ],
   "source": [
    "##### Do Not Modify ######\n",
    "\n",
    "import grader\n",
    "from test import delta, delta_name\n",
    "\n",
    "try:\n",
    "    response = grader.run_grader(search)\n",
    "    print(response)    \n",
    "    \n",
    "except Exception as err:\n",
    "    print(str(err))"
   ]
  },
  {
   "cell_type": "code",
   "execution_count": null,
   "metadata": {},
   "outputs": [],
   "source": []
  }
 ],
 "metadata": {
  "kernelspec": {
   "display_name": "Python 3",
   "language": "python",
   "name": "python3"
  },
  "language_info": {
   "codemirror_mode": {
    "name": "ipython",
    "version": 3
   },
   "file_extension": ".py",
   "mimetype": "text/x-python",
   "name": "python",
   "nbconvert_exporter": "python",
   "pygments_lexer": "ipython3",
   "version": "3.6.3"
  }
 },
 "nbformat": 4,
 "nbformat_minor": 2
}
